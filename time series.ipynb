{
 "cells": [
  {
   "cell_type": "code",
   "execution_count": 67,
   "id": "a8c06992-c9aa-48f2-8875-5112e6b9ab8f",
   "metadata": {},
   "outputs": [],
   "source": [
    "import pandas as pd\n",
    "import numpy as np\n",
    "import warnings\n",
    "warnings.filterwarnings('ignore')"
   ]
  },
  {
   "cell_type": "code",
   "execution_count": 68,
   "id": "9c272510-9ee0-4e67-97f3-7c371339294a",
   "metadata": {},
   "outputs": [],
   "source": [
    "data=pd.read_csv('AirPassengers.csv')"
   ]
  },
  {
   "cell_type": "code",
   "execution_count": 69,
   "id": "d753787c-77fb-4d01-b95f-0c4c8427bad9",
   "metadata": {},
   "outputs": [
    {
     "data": {
      "text/html": [
       "<div>\n",
       "<style scoped>\n",
       "    .dataframe tbody tr th:only-of-type {\n",
       "        vertical-align: middle;\n",
       "    }\n",
       "\n",
       "    .dataframe tbody tr th {\n",
       "        vertical-align: top;\n",
       "    }\n",
       "\n",
       "    .dataframe thead th {\n",
       "        text-align: right;\n",
       "    }\n",
       "</style>\n",
       "<table border=\"1\" class=\"dataframe\">\n",
       "  <thead>\n",
       "    <tr style=\"text-align: right;\">\n",
       "      <th></th>\n",
       "      <th>Month</th>\n",
       "      <th>#Passengers</th>\n",
       "    </tr>\n",
       "  </thead>\n",
       "  <tbody>\n",
       "    <tr>\n",
       "      <th>0</th>\n",
       "      <td>1949-01</td>\n",
       "      <td>112</td>\n",
       "    </tr>\n",
       "    <tr>\n",
       "      <th>1</th>\n",
       "      <td>1949-02</td>\n",
       "      <td>118</td>\n",
       "    </tr>\n",
       "    <tr>\n",
       "      <th>2</th>\n",
       "      <td>1949-03</td>\n",
       "      <td>132</td>\n",
       "    </tr>\n",
       "    <tr>\n",
       "      <th>3</th>\n",
       "      <td>1949-04</td>\n",
       "      <td>129</td>\n",
       "    </tr>\n",
       "    <tr>\n",
       "      <th>4</th>\n",
       "      <td>1949-05</td>\n",
       "      <td>121</td>\n",
       "    </tr>\n",
       "    <tr>\n",
       "      <th>...</th>\n",
       "      <td>...</td>\n",
       "      <td>...</td>\n",
       "    </tr>\n",
       "    <tr>\n",
       "      <th>139</th>\n",
       "      <td>1960-08</td>\n",
       "      <td>606</td>\n",
       "    </tr>\n",
       "    <tr>\n",
       "      <th>140</th>\n",
       "      <td>1960-09</td>\n",
       "      <td>508</td>\n",
       "    </tr>\n",
       "    <tr>\n",
       "      <th>141</th>\n",
       "      <td>1960-10</td>\n",
       "      <td>461</td>\n",
       "    </tr>\n",
       "    <tr>\n",
       "      <th>142</th>\n",
       "      <td>1960-11</td>\n",
       "      <td>390</td>\n",
       "    </tr>\n",
       "    <tr>\n",
       "      <th>143</th>\n",
       "      <td>1960-12</td>\n",
       "      <td>432</td>\n",
       "    </tr>\n",
       "  </tbody>\n",
       "</table>\n",
       "<p>144 rows × 2 columns</p>\n",
       "</div>"
      ],
      "text/plain": [
       "       Month  #Passengers\n",
       "0    1949-01          112\n",
       "1    1949-02          118\n",
       "2    1949-03          132\n",
       "3    1949-04          129\n",
       "4    1949-05          121\n",
       "..       ...          ...\n",
       "139  1960-08          606\n",
       "140  1960-09          508\n",
       "141  1960-10          461\n",
       "142  1960-11          390\n",
       "143  1960-12          432\n",
       "\n",
       "[144 rows x 2 columns]"
      ]
     },
     "execution_count": 69,
     "metadata": {},
     "output_type": "execute_result"
    }
   ],
   "source": [
    "data"
   ]
  },
  {
   "cell_type": "code",
   "execution_count": 70,
   "id": "515b993a-17b1-4f21-8e52-62b12705f513",
   "metadata": {},
   "outputs": [
    {
     "data": {
      "text/plain": [
       "(144, 2)"
      ]
     },
     "execution_count": 70,
     "metadata": {},
     "output_type": "execute_result"
    }
   ],
   "source": [
    "data.shape"
   ]
  },
  {
   "cell_type": "code",
   "execution_count": 71,
   "id": "c9152e6f-f01a-443e-abca-71b8f8bf6fc7",
   "metadata": {},
   "outputs": [
    {
     "data": {
      "text/html": [
       "<div>\n",
       "<style scoped>\n",
       "    .dataframe tbody tr th:only-of-type {\n",
       "        vertical-align: middle;\n",
       "    }\n",
       "\n",
       "    .dataframe tbody tr th {\n",
       "        vertical-align: top;\n",
       "    }\n",
       "\n",
       "    .dataframe thead th {\n",
       "        text-align: right;\n",
       "    }\n",
       "</style>\n",
       "<table border=\"1\" class=\"dataframe\">\n",
       "  <thead>\n",
       "    <tr style=\"text-align: right;\">\n",
       "      <th></th>\n",
       "      <th>Month</th>\n",
       "      <th>#Passengers</th>\n",
       "    </tr>\n",
       "  </thead>\n",
       "  <tbody>\n",
       "    <tr>\n",
       "      <th>0</th>\n",
       "      <td>1949-01</td>\n",
       "      <td>112</td>\n",
       "    </tr>\n",
       "    <tr>\n",
       "      <th>1</th>\n",
       "      <td>1949-02</td>\n",
       "      <td>118</td>\n",
       "    </tr>\n",
       "    <tr>\n",
       "      <th>2</th>\n",
       "      <td>1949-03</td>\n",
       "      <td>132</td>\n",
       "    </tr>\n",
       "    <tr>\n",
       "      <th>3</th>\n",
       "      <td>1949-04</td>\n",
       "      <td>129</td>\n",
       "    </tr>\n",
       "    <tr>\n",
       "      <th>4</th>\n",
       "      <td>1949-05</td>\n",
       "      <td>121</td>\n",
       "    </tr>\n",
       "  </tbody>\n",
       "</table>\n",
       "</div>"
      ],
      "text/plain": [
       "     Month  #Passengers\n",
       "0  1949-01          112\n",
       "1  1949-02          118\n",
       "2  1949-03          132\n",
       "3  1949-04          129\n",
       "4  1949-05          121"
      ]
     },
     "execution_count": 71,
     "metadata": {},
     "output_type": "execute_result"
    }
   ],
   "source": [
    "data.head()"
   ]
  },
  {
   "cell_type": "code",
   "execution_count": 72,
   "id": "4cab52bc-c587-42ce-812b-c993a5441932",
   "metadata": {},
   "outputs": [
    {
     "data": {
      "text/html": [
       "<div>\n",
       "<style scoped>\n",
       "    .dataframe tbody tr th:only-of-type {\n",
       "        vertical-align: middle;\n",
       "    }\n",
       "\n",
       "    .dataframe tbody tr th {\n",
       "        vertical-align: top;\n",
       "    }\n",
       "\n",
       "    .dataframe thead th {\n",
       "        text-align: right;\n",
       "    }\n",
       "</style>\n",
       "<table border=\"1\" class=\"dataframe\">\n",
       "  <thead>\n",
       "    <tr style=\"text-align: right;\">\n",
       "      <th></th>\n",
       "      <th>Month</th>\n",
       "      <th>#Passengers</th>\n",
       "    </tr>\n",
       "  </thead>\n",
       "  <tbody>\n",
       "    <tr>\n",
       "      <th>139</th>\n",
       "      <td>1960-08</td>\n",
       "      <td>606</td>\n",
       "    </tr>\n",
       "    <tr>\n",
       "      <th>140</th>\n",
       "      <td>1960-09</td>\n",
       "      <td>508</td>\n",
       "    </tr>\n",
       "    <tr>\n",
       "      <th>141</th>\n",
       "      <td>1960-10</td>\n",
       "      <td>461</td>\n",
       "    </tr>\n",
       "    <tr>\n",
       "      <th>142</th>\n",
       "      <td>1960-11</td>\n",
       "      <td>390</td>\n",
       "    </tr>\n",
       "    <tr>\n",
       "      <th>143</th>\n",
       "      <td>1960-12</td>\n",
       "      <td>432</td>\n",
       "    </tr>\n",
       "  </tbody>\n",
       "</table>\n",
       "</div>"
      ],
      "text/plain": [
       "       Month  #Passengers\n",
       "139  1960-08          606\n",
       "140  1960-09          508\n",
       "141  1960-10          461\n",
       "142  1960-11          390\n",
       "143  1960-12          432"
      ]
     },
     "execution_count": 72,
     "metadata": {},
     "output_type": "execute_result"
    }
   ],
   "source": [
    "data.tail()"
   ]
  },
  {
   "cell_type": "code",
   "execution_count": 73,
   "id": "0b86947b-946d-470c-a25c-faea6cb63688",
   "metadata": {},
   "outputs": [
    {
     "name": "stdout",
     "output_type": "stream",
     "text": [
      "<class 'pandas.core.frame.DataFrame'>\n",
      "RangeIndex: 144 entries, 0 to 143\n",
      "Data columns (total 2 columns):\n",
      " #   Column       Non-Null Count  Dtype \n",
      "---  ------       --------------  ----- \n",
      " 0   Month        144 non-null    object\n",
      " 1   #Passengers  144 non-null    int64 \n",
      "dtypes: int64(1), object(1)\n",
      "memory usage: 2.4+ KB\n"
     ]
    }
   ],
   "source": [
    "data.info()"
   ]
  },
  {
   "cell_type": "code",
   "execution_count": 74,
   "id": "4905f153-4fd7-4bd7-a0ed-36ce53d2c793",
   "metadata": {},
   "outputs": [
    {
     "data": {
      "text/plain": [
       "Month          object\n",
       "#Passengers     int64\n",
       "dtype: object"
      ]
     },
     "execution_count": 74,
     "metadata": {},
     "output_type": "execute_result"
    }
   ],
   "source": [
    "data.dtypes"
   ]
  },
  {
   "cell_type": "code",
   "execution_count": 75,
   "id": "811cff3b-3c89-4811-9541-abfae2133f70",
   "metadata": {},
   "outputs": [],
   "source": [
    "data=pd.read_csv('AirPassengers.csv',parse_dates=[0],index_col='Month')"
   ]
  },
  {
   "cell_type": "code",
   "execution_count": 76,
   "id": "bb16640e-ace5-4c94-9526-78c396cd4dbd",
   "metadata": {},
   "outputs": [
    {
     "data": {
      "text/html": [
       "<div>\n",
       "<style scoped>\n",
       "    .dataframe tbody tr th:only-of-type {\n",
       "        vertical-align: middle;\n",
       "    }\n",
       "\n",
       "    .dataframe tbody tr th {\n",
       "        vertical-align: top;\n",
       "    }\n",
       "\n",
       "    .dataframe thead th {\n",
       "        text-align: right;\n",
       "    }\n",
       "</style>\n",
       "<table border=\"1\" class=\"dataframe\">\n",
       "  <thead>\n",
       "    <tr style=\"text-align: right;\">\n",
       "      <th></th>\n",
       "      <th>#Passengers</th>\n",
       "    </tr>\n",
       "    <tr>\n",
       "      <th>Month</th>\n",
       "      <th></th>\n",
       "    </tr>\n",
       "  </thead>\n",
       "  <tbody>\n",
       "    <tr>\n",
       "      <th>1949-01-01</th>\n",
       "      <td>112</td>\n",
       "    </tr>\n",
       "    <tr>\n",
       "      <th>1949-02-01</th>\n",
       "      <td>118</td>\n",
       "    </tr>\n",
       "    <tr>\n",
       "      <th>1949-03-01</th>\n",
       "      <td>132</td>\n",
       "    </tr>\n",
       "    <tr>\n",
       "      <th>1949-04-01</th>\n",
       "      <td>129</td>\n",
       "    </tr>\n",
       "    <tr>\n",
       "      <th>1949-05-01</th>\n",
       "      <td>121</td>\n",
       "    </tr>\n",
       "    <tr>\n",
       "      <th>...</th>\n",
       "      <td>...</td>\n",
       "    </tr>\n",
       "    <tr>\n",
       "      <th>1960-08-01</th>\n",
       "      <td>606</td>\n",
       "    </tr>\n",
       "    <tr>\n",
       "      <th>1960-09-01</th>\n",
       "      <td>508</td>\n",
       "    </tr>\n",
       "    <tr>\n",
       "      <th>1960-10-01</th>\n",
       "      <td>461</td>\n",
       "    </tr>\n",
       "    <tr>\n",
       "      <th>1960-11-01</th>\n",
       "      <td>390</td>\n",
       "    </tr>\n",
       "    <tr>\n",
       "      <th>1960-12-01</th>\n",
       "      <td>432</td>\n",
       "    </tr>\n",
       "  </tbody>\n",
       "</table>\n",
       "<p>144 rows × 1 columns</p>\n",
       "</div>"
      ],
      "text/plain": [
       "            #Passengers\n",
       "Month                  \n",
       "1949-01-01          112\n",
       "1949-02-01          118\n",
       "1949-03-01          132\n",
       "1949-04-01          129\n",
       "1949-05-01          121\n",
       "...                 ...\n",
       "1960-08-01          606\n",
       "1960-09-01          508\n",
       "1960-10-01          461\n",
       "1960-11-01          390\n",
       "1960-12-01          432\n",
       "\n",
       "[144 rows x 1 columns]"
      ]
     },
     "execution_count": 76,
     "metadata": {},
     "output_type": "execute_result"
    }
   ],
   "source": [
    "data"
   ]
  },
  {
   "cell_type": "code",
   "execution_count": 77,
   "id": "a382bacd-2d59-4438-897b-aa2e603025c1",
   "metadata": {},
   "outputs": [],
   "source": [
    "data.rename(columns={'#Passengers':'Passengers'},inplace=True)"
   ]
  },
  {
   "cell_type": "code",
   "execution_count": 78,
   "id": "ecad65ef-de6a-441b-92e0-8338dd112205",
   "metadata": {},
   "outputs": [
    {
     "data": {
      "text/html": [
       "<div>\n",
       "<style scoped>\n",
       "    .dataframe tbody tr th:only-of-type {\n",
       "        vertical-align: middle;\n",
       "    }\n",
       "\n",
       "    .dataframe tbody tr th {\n",
       "        vertical-align: top;\n",
       "    }\n",
       "\n",
       "    .dataframe thead th {\n",
       "        text-align: right;\n",
       "    }\n",
       "</style>\n",
       "<table border=\"1\" class=\"dataframe\">\n",
       "  <thead>\n",
       "    <tr style=\"text-align: right;\">\n",
       "      <th></th>\n",
       "      <th>Passengers</th>\n",
       "    </tr>\n",
       "    <tr>\n",
       "      <th>Month</th>\n",
       "      <th></th>\n",
       "    </tr>\n",
       "  </thead>\n",
       "  <tbody>\n",
       "    <tr>\n",
       "      <th>1949-01-01</th>\n",
       "      <td>112</td>\n",
       "    </tr>\n",
       "    <tr>\n",
       "      <th>1949-02-01</th>\n",
       "      <td>118</td>\n",
       "    </tr>\n",
       "    <tr>\n",
       "      <th>1949-03-01</th>\n",
       "      <td>132</td>\n",
       "    </tr>\n",
       "    <tr>\n",
       "      <th>1949-04-01</th>\n",
       "      <td>129</td>\n",
       "    </tr>\n",
       "    <tr>\n",
       "      <th>1949-05-01</th>\n",
       "      <td>121</td>\n",
       "    </tr>\n",
       "  </tbody>\n",
       "</table>\n",
       "</div>"
      ],
      "text/plain": [
       "            Passengers\n",
       "Month                 \n",
       "1949-01-01         112\n",
       "1949-02-01         118\n",
       "1949-03-01         132\n",
       "1949-04-01         129\n",
       "1949-05-01         121"
      ]
     },
     "execution_count": 78,
     "metadata": {},
     "output_type": "execute_result"
    }
   ],
   "source": [
    "data.head()"
   ]
  },
  {
   "cell_type": "code",
   "execution_count": 79,
   "id": "9e11c614-2e08-40fc-b1e6-9ce5b2767acd",
   "metadata": {},
   "outputs": [
    {
     "data": {
      "text/html": [
       "<div>\n",
       "<style scoped>\n",
       "    .dataframe tbody tr th:only-of-type {\n",
       "        vertical-align: middle;\n",
       "    }\n",
       "\n",
       "    .dataframe tbody tr th {\n",
       "        vertical-align: top;\n",
       "    }\n",
       "\n",
       "    .dataframe thead th {\n",
       "        text-align: right;\n",
       "    }\n",
       "</style>\n",
       "<table border=\"1\" class=\"dataframe\">\n",
       "  <thead>\n",
       "    <tr style=\"text-align: right;\">\n",
       "      <th></th>\n",
       "      <th>Passengers</th>\n",
       "    </tr>\n",
       "  </thead>\n",
       "  <tbody>\n",
       "    <tr>\n",
       "      <th>count</th>\n",
       "      <td>144.000000</td>\n",
       "    </tr>\n",
       "    <tr>\n",
       "      <th>mean</th>\n",
       "      <td>280.298611</td>\n",
       "    </tr>\n",
       "    <tr>\n",
       "      <th>std</th>\n",
       "      <td>119.966317</td>\n",
       "    </tr>\n",
       "    <tr>\n",
       "      <th>min</th>\n",
       "      <td>104.000000</td>\n",
       "    </tr>\n",
       "    <tr>\n",
       "      <th>25%</th>\n",
       "      <td>180.000000</td>\n",
       "    </tr>\n",
       "    <tr>\n",
       "      <th>50%</th>\n",
       "      <td>265.500000</td>\n",
       "    </tr>\n",
       "    <tr>\n",
       "      <th>75%</th>\n",
       "      <td>360.500000</td>\n",
       "    </tr>\n",
       "    <tr>\n",
       "      <th>max</th>\n",
       "      <td>622.000000</td>\n",
       "    </tr>\n",
       "  </tbody>\n",
       "</table>\n",
       "</div>"
      ],
      "text/plain": [
       "       Passengers\n",
       "count  144.000000\n",
       "mean   280.298611\n",
       "std    119.966317\n",
       "min    104.000000\n",
       "25%    180.000000\n",
       "50%    265.500000\n",
       "75%    360.500000\n",
       "max    622.000000"
      ]
     },
     "execution_count": 79,
     "metadata": {},
     "output_type": "execute_result"
    }
   ],
   "source": [
    "data.describe()"
   ]
  },
  {
   "cell_type": "code",
   "execution_count": 80,
   "id": "f0ccb3e7-f48c-493d-9b81-e6fb51c1adae",
   "metadata": {},
   "outputs": [
    {
     "data": {
      "text/plain": [
       "[<matplotlib.lines.Line2D at 0x20480624260>]"
      ]
     },
     "execution_count": 80,
     "metadata": {},
     "output_type": "execute_result"
    },
    {
     "data": {
      "image/png": "[encoded data removed]",
      "text/plain": [
       "<Figure size 640x480 with 1 Axes>"
      ]
     },
     "metadata": {},
     "output_type": "display_data"
    }
   ],
   "source": [
    "import matplotlib.pyplot as plt\n",
    "#plt.figure(figsize=(6,3))#canvas  size\n",
    "plt.plot(data)#line plot\n",
    "#plt.tight_layout()\n",
    "## from plot we can see the series given is not stationary"
   ]
  },
  {
   "cell_type": "code",
   "execution_count": 81,
   "id": "ec8491aa-7268-4700-a683-44343e127923",
   "metadata": {},
   "outputs": [
    {
     "data": {
      "image/png": "[encoded data removed]",
      "text/plain": [
       "<Figure size 640x480 with 1 Axes>"
      ]
     },
     "execution_count": 81,
     "metadata": {},
     "output_type": "execute_result"
    },
    {
     "data": {
      "image/png": "[encoded data removed]",
      "text/plain": [
       "<Figure size 640x480 with 1 Axes>"
      ]
     },
     "metadata": {},
     "output_type": "display_data"
    }
   ],
   "source": [
    "## Plotting the autocorrelation function\n",
    "from statsmodels.graphics.tsaplots import plot_acf\n",
    "plot_acf(data)"
   ]
  },
  {
   "cell_type": "code",
   "execution_count": 82,
   "id": "869755d1-bae9-486e-a99b-e55b80c1ed11",
   "metadata": {},
   "outputs": [],
   "source": [
    "# 1, ad fuller test is performed\n",
    "# 2. this test gives us 5 values , one amoung these 5 valyes is p value\n",
    "# 3. take this p value and compare if p value < 0.05 then we say data is stationary"
   ]
  },
  {
   "cell_type": "code",
   "execution_count": 83,
   "id": "08d81b2e-ae46-4778-b5d0-ab16c5dc4755",
   "metadata": {},
   "outputs": [
    {
     "data": {
      "text/plain": [
       "(0.815368879206051,\n",
       " 0.991880243437641,\n",
       " 13,\n",
       " 130,\n",
       " {'1%': -3.4816817173418295,\n",
       "  '5%': -2.8840418343195267,\n",
       "  '10%': -2.578770059171598},\n",
       " 996.692930839019)"
      ]
     },
     "execution_count": 83,
     "metadata": {},
     "output_type": "execute_result"
    }
   ],
   "source": [
    "# ADfuller Test to check stationarity\n",
    "\n",
    "from statsmodels.tsa.stattools import adfuller\n",
    "dftest = adfuller(data.Passengers, autolag = 'AIC')#AIC\n",
    "dftest\n",
    "# 0.991880243437641, is our p_value\n",
    "# compare with alpha 0.05\n",
    "# since p > alpha , we say time series is non stationary"
   ]
  },
  {
   "cell_type": "code",
   "execution_count": 84,
   "id": "36a21a75-1884-4b72-aa79-205f8a11f354",
   "metadata": {},
   "outputs": [
    {
     "data": {
      "text/html": [
       "<div>\n",
       "<style scoped>\n",
       "    .dataframe tbody tr th:only-of-type {\n",
       "        vertical-align: middle;\n",
       "    }\n",
       "\n",
       "    .dataframe tbody tr th {\n",
       "        vertical-align: top;\n",
       "    }\n",
       "\n",
       "    .dataframe thead th {\n",
       "        text-align: right;\n",
       "    }\n",
       "</style>\n",
       "<table border=\"1\" class=\"dataframe\">\n",
       "  <thead>\n",
       "    <tr style=\"text-align: right;\">\n",
       "      <th></th>\n",
       "      <th>Passengers</th>\n",
       "    </tr>\n",
       "    <tr>\n",
       "      <th>Month</th>\n",
       "      <th></th>\n",
       "    </tr>\n",
       "  </thead>\n",
       "  <tbody>\n",
       "    <tr>\n",
       "      <th>1949-01-01</th>\n",
       "      <td>112</td>\n",
       "    </tr>\n",
       "    <tr>\n",
       "      <th>1949-02-01</th>\n",
       "      <td>118</td>\n",
       "    </tr>\n",
       "    <tr>\n",
       "      <th>1949-03-01</th>\n",
       "      <td>132</td>\n",
       "    </tr>\n",
       "    <tr>\n",
       "      <th>1949-04-01</th>\n",
       "      <td>129</td>\n",
       "    </tr>\n",
       "    <tr>\n",
       "      <th>1949-05-01</th>\n",
       "      <td>121</td>\n",
       "    </tr>\n",
       "    <tr>\n",
       "      <th>...</th>\n",
       "      <td>...</td>\n",
       "    </tr>\n",
       "    <tr>\n",
       "      <th>1960-08-01</th>\n",
       "      <td>606</td>\n",
       "    </tr>\n",
       "    <tr>\n",
       "      <th>1960-09-01</th>\n",
       "      <td>508</td>\n",
       "    </tr>\n",
       "    <tr>\n",
       "      <th>1960-10-01</th>\n",
       "      <td>461</td>\n",
       "    </tr>\n",
       "    <tr>\n",
       "      <th>1960-11-01</th>\n",
       "      <td>390</td>\n",
       "    </tr>\n",
       "    <tr>\n",
       "      <th>1960-12-01</th>\n",
       "      <td>432</td>\n",
       "    </tr>\n",
       "  </tbody>\n",
       "</table>\n",
       "<p>144 rows × 1 columns</p>\n",
       "</div>"
      ],
      "text/plain": [
       "            Passengers\n",
       "Month                 \n",
       "1949-01-01         112\n",
       "1949-02-01         118\n",
       "1949-03-01         132\n",
       "1949-04-01         129\n",
       "1949-05-01         121\n",
       "...                ...\n",
       "1960-08-01         606\n",
       "1960-09-01         508\n",
       "1960-10-01         461\n",
       "1960-11-01         390\n",
       "1960-12-01         432\n",
       "\n",
       "[144 rows x 1 columns]"
      ]
     },
     "execution_count": 84,
     "metadata": {},
     "output_type": "execute_result"
    }
   ],
   "source": [
    "data"
   ]
  },
  {
   "cell_type": "code",
   "execution_count": 85,
   "id": "f2d8f830-3411-4529-afd3-be3692898e45",
   "metadata": {},
   "outputs": [
    {
     "data": {
      "text/html": [
       "<div>\n",
       "<style scoped>\n",
       "    .dataframe tbody tr th:only-of-type {\n",
       "        vertical-align: middle;\n",
       "    }\n",
       "\n",
       "    .dataframe tbody tr th {\n",
       "        vertical-align: top;\n",
       "    }\n",
       "\n",
       "    .dataframe thead th {\n",
       "        text-align: right;\n",
       "    }\n",
       "</style>\n",
       "<table border=\"1\" class=\"dataframe\">\n",
       "  <thead>\n",
       "    <tr style=\"text-align: right;\">\n",
       "      <th></th>\n",
       "      <th>Passengers</th>\n",
       "    </tr>\n",
       "    <tr>\n",
       "      <th>Month</th>\n",
       "      <th></th>\n",
       "    </tr>\n",
       "  </thead>\n",
       "  <tbody>\n",
       "    <tr>\n",
       "      <th>1949-01-01</th>\n",
       "      <td>NaN</td>\n",
       "    </tr>\n",
       "    <tr>\n",
       "      <th>1949-02-01</th>\n",
       "      <td>6.0</td>\n",
       "    </tr>\n",
       "    <tr>\n",
       "      <th>1949-03-01</th>\n",
       "      <td>14.0</td>\n",
       "    </tr>\n",
       "    <tr>\n",
       "      <th>1949-04-01</th>\n",
       "      <td>-3.0</td>\n",
       "    </tr>\n",
       "    <tr>\n",
       "      <th>1949-05-01</th>\n",
       "      <td>-8.0</td>\n",
       "    </tr>\n",
       "  </tbody>\n",
       "</table>\n",
       "</div>"
      ],
      "text/plain": [
       "            Passengers\n",
       "Month                 \n",
       "1949-01-01         NaN\n",
       "1949-02-01         6.0\n",
       "1949-03-01        14.0\n",
       "1949-04-01        -3.0\n",
       "1949-05-01        -8.0"
      ]
     },
     "execution_count": 85,
     "metadata": {},
     "output_type": "execute_result"
    }
   ],
   "source": [
    "data1=data.diff(periods=1) #that is applying diff for 1 time on data\n",
    "data1.head()"
   ]
  },
  {
   "cell_type": "code",
   "execution_count": 86,
   "id": "e0d71b00-347f-4ccf-8c97-55653bcb02f1",
   "metadata": {},
   "outputs": [
    {
     "data": {
      "text/html": [
       "<div>\n",
       "<style scoped>\n",
       "    .dataframe tbody tr th:only-of-type {\n",
       "        vertical-align: middle;\n",
       "    }\n",
       "\n",
       "    .dataframe tbody tr th {\n",
       "        vertical-align: top;\n",
       "    }\n",
       "\n",
       "    .dataframe thead th {\n",
       "        text-align: right;\n",
       "    }\n",
       "</style>\n",
       "<table border=\"1\" class=\"dataframe\">\n",
       "  <thead>\n",
       "    <tr style=\"text-align: right;\">\n",
       "      <th></th>\n",
       "      <th>Passengers</th>\n",
       "    </tr>\n",
       "    <tr>\n",
       "      <th>Month</th>\n",
       "      <th></th>\n",
       "    </tr>\n",
       "  </thead>\n",
       "  <tbody>\n",
       "    <tr>\n",
       "      <th>1949-02-01</th>\n",
       "      <td>6.0</td>\n",
       "    </tr>\n",
       "    <tr>\n",
       "      <th>1949-03-01</th>\n",
       "      <td>14.0</td>\n",
       "    </tr>\n",
       "    <tr>\n",
       "      <th>1949-04-01</th>\n",
       "      <td>-3.0</td>\n",
       "    </tr>\n",
       "    <tr>\n",
       "      <th>1949-05-01</th>\n",
       "      <td>-8.0</td>\n",
       "    </tr>\n",
       "    <tr>\n",
       "      <th>1949-06-01</th>\n",
       "      <td>14.0</td>\n",
       "    </tr>\n",
       "  </tbody>\n",
       "</table>\n",
       "</div>"
      ],
      "text/plain": [
       "            Passengers\n",
       "Month                 \n",
       "1949-02-01         6.0\n",
       "1949-03-01        14.0\n",
       "1949-04-01        -3.0\n",
       "1949-05-01        -8.0\n",
       "1949-06-01        14.0"
      ]
     },
     "execution_count": 86,
     "metadata": {},
     "output_type": "execute_result"
    }
   ],
   "source": [
    "data1=data1.iloc[1:] #null value discarded #iloc index location #loc user define index\n",
    "data1.head()"
   ]
  },
  {
   "cell_type": "code",
   "execution_count": 87,
   "id": "c009a392-eb01-47f8-ad33-6376003ef334",
   "metadata": {},
   "outputs": [
    {
     "data": {
      "image/png": "[encoded data removed]",
      "text/plain": [
       "<Figure size 640x480 with 1 Axes>"
      ]
     },
     "metadata": {},
     "output_type": "display_data"
    }
   ],
   "source": [
    "plot_acf(data1);  # autocorrelation plot"
   ]
  },
  {
   "cell_type": "code",
   "execution_count": 88,
   "id": "845b5b2f-cf00-4641-8c27-afbe22c58818",
   "metadata": {},
   "outputs": [
    {
     "data": {
      "text/html": [
       "<div>\n",
       "<style scoped>\n",
       "    .dataframe tbody tr th:only-of-type {\n",
       "        vertical-align: middle;\n",
       "    }\n",
       "\n",
       "    .dataframe tbody tr th {\n",
       "        vertical-align: top;\n",
       "    }\n",
       "\n",
       "    .dataframe thead th {\n",
       "        text-align: right;\n",
       "    }\n",
       "</style>\n",
       "<table border=\"1\" class=\"dataframe\">\n",
       "  <thead>\n",
       "    <tr style=\"text-align: right;\">\n",
       "      <th></th>\n",
       "      <th>Passengers</th>\n",
       "    </tr>\n",
       "    <tr>\n",
       "      <th>Month</th>\n",
       "      <th></th>\n",
       "    </tr>\n",
       "  </thead>\n",
       "  <tbody>\n",
       "    <tr>\n",
       "      <th>1949-02-01</th>\n",
       "      <td>NaN</td>\n",
       "    </tr>\n",
       "    <tr>\n",
       "      <th>1949-03-01</th>\n",
       "      <td>8.0</td>\n",
       "    </tr>\n",
       "    <tr>\n",
       "      <th>1949-04-01</th>\n",
       "      <td>-17.0</td>\n",
       "    </tr>\n",
       "    <tr>\n",
       "      <th>1949-05-01</th>\n",
       "      <td>-5.0</td>\n",
       "    </tr>\n",
       "    <tr>\n",
       "      <th>1949-06-01</th>\n",
       "      <td>22.0</td>\n",
       "    </tr>\n",
       "  </tbody>\n",
       "</table>\n",
       "</div>"
      ],
      "text/plain": [
       "            Passengers\n",
       "Month                 \n",
       "1949-02-01         NaN\n",
       "1949-03-01         8.0\n",
       "1949-04-01       -17.0\n",
       "1949-05-01        -5.0\n",
       "1949-06-01        22.0"
      ]
     },
     "execution_count": 88,
     "metadata": {},
     "output_type": "execute_result"
    }
   ],
   "source": [
    "data2=data1.diff(periods=1)\n",
    "data2.head()"
   ]
  },
  {
   "cell_type": "code",
   "execution_count": 89,
   "id": "eb07fe91-1d93-43f3-94e8-f0dca113dc23",
   "metadata": {},
   "outputs": [
    {
     "data": {
      "text/html": [
       "<div>\n",
       "<style scoped>\n",
       "    .dataframe tbody tr th:only-of-type {\n",
       "        vertical-align: middle;\n",
       "    }\n",
       "\n",
       "    .dataframe tbody tr th {\n",
       "        vertical-align: top;\n",
       "    }\n",
       "\n",
       "    .dataframe thead th {\n",
       "        text-align: right;\n",
       "    }\n",
       "</style>\n",
       "<table border=\"1\" class=\"dataframe\">\n",
       "  <thead>\n",
       "    <tr style=\"text-align: right;\">\n",
       "      <th></th>\n",
       "      <th>Passengers</th>\n",
       "    </tr>\n",
       "    <tr>\n",
       "      <th>Month</th>\n",
       "      <th></th>\n",
       "    </tr>\n",
       "  </thead>\n",
       "  <tbody>\n",
       "    <tr>\n",
       "      <th>1949-03-01</th>\n",
       "      <td>8.0</td>\n",
       "    </tr>\n",
       "    <tr>\n",
       "      <th>1949-04-01</th>\n",
       "      <td>-17.0</td>\n",
       "    </tr>\n",
       "    <tr>\n",
       "      <th>1949-05-01</th>\n",
       "      <td>-5.0</td>\n",
       "    </tr>\n",
       "    <tr>\n",
       "      <th>1949-06-01</th>\n",
       "      <td>22.0</td>\n",
       "    </tr>\n",
       "    <tr>\n",
       "      <th>1949-07-01</th>\n",
       "      <td>-1.0</td>\n",
       "    </tr>\n",
       "  </tbody>\n",
       "</table>\n",
       "</div>"
      ],
      "text/plain": [
       "            Passengers\n",
       "Month                 \n",
       "1949-03-01         8.0\n",
       "1949-04-01       -17.0\n",
       "1949-05-01        -5.0\n",
       "1949-06-01        22.0\n",
       "1949-07-01        -1.0"
      ]
     },
     "execution_count": 89,
     "metadata": {},
     "output_type": "execute_result"
    }
   ],
   "source": [
    "data2=data2.iloc[1:]\n",
    "data2.head()"
   ]
  },
  {
   "cell_type": "code",
   "execution_count": 90,
   "id": "0985d997-33c7-4a89-9210-3b766390b568",
   "metadata": {},
   "outputs": [
    {
     "data": {
      "image/png": "[encoded data removed]",
      "text/plain": [
       "<Figure size 640x480 with 1 Axes>"
      ]
     },
     "metadata": {},
     "output_type": "display_data"
    }
   ],
   "source": [
    "plot_acf(data2);"
   ]
  },
  {
   "cell_type": "code",
   "execution_count": 91,
   "id": "a0e73a8d-d5ca-4d3d-8212-74fc63a0cd39",
   "metadata": {},
   "outputs": [
    {
     "data": {
      "text/plain": [
       "(142, 1)"
      ]
     },
     "execution_count": 91,
     "metadata": {},
     "output_type": "execute_result"
    }
   ],
   "source": [
    "data2.shape"
   ]
  },
  {
   "cell_type": "code",
   "execution_count": 92,
   "id": "6040663f-8d22-4d1e-9dc0-60a15dbf1afa",
   "metadata": {},
   "outputs": [],
   "source": [
    "train=data2[:100] #from 0th row to 99th row - traning data\n",
    "test=data2[100:]  #from 100th row to end - testing data"
   ]
  },
  {
   "cell_type": "code",
   "execution_count": 93,
   "id": "07d8e39a-2433-4a4c-b750-ff00704fb398",
   "metadata": {
    "scrolled": true
   },
   "outputs": [
    {
     "name": "stdout",
     "output_type": "stream",
     "text": [
      "<class 'pandas.core.frame.DataFrame'>\n",
      "DatetimeIndex: 100 entries, 1949-03-01 to 1957-06-01\n",
      "Data columns (total 1 columns):\n",
      " #   Column      Non-Null Count  Dtype  \n",
      "---  ------      --------------  -----  \n",
      " 0   Passengers  100 non-null    float64\n",
      "dtypes: float64(1)\n",
      "memory usage: 1.6 KB\n"
     ]
    }
   ],
   "source": [
    "train.info() #info about datatype and null value"
   ]
  },
  {
   "cell_type": "code",
   "execution_count": 94,
   "id": "8dce3a0a-3b88-4e21-b0e1-82482e07b59e",
   "metadata": {},
   "outputs": [],
   "source": [
    "## Applying autoregressive model\n",
    "\n",
    "#from statsmodels.tsa.ar_model import AR\n",
    "##from statsmodels.tsa.ar_model import AutoReg\n",
    "\n",
    "from statsmodels.tsa.ar_model import AutoReg\n",
    "import warnings\n",
    "warnings.filterwarnings('ignore')"
   ]
  },
  {
   "cell_type": "code",
   "execution_count": 95,
   "id": "668048f9-4e5f-43cf-bb7a-4f874ffdf41e",
   "metadata": {},
   "outputs": [
    {
     "data": {
      "text/plain": [
       "[1, 2, 3, 4, 5, 6, 7, 8, 9, 10, 11, 12]"
      ]
     },
     "execution_count": 95,
     "metadata": {},
     "output_type": "execute_result"
    }
   ],
   "source": [
    "#ar_select_order : gives the best lags ordered as an array\n",
    "\n",
    "# to select the optimal values for lags\n",
    "\n",
    "from statsmodels.tsa.ar_model import ar_select_order\n",
    "mod=ar_select_order(data2,maxlag=12,glob=True)\n",
    "mod.ar_lags\n",
    "\n",
    "# select_order: selects the best number of lags\n",
    "# maxlag: The maximum lag to consider\n",
    "# glob: global search across all combinations of lags"
   ]
  },
  {
   "cell_type": "code",
   "execution_count": 96,
   "id": "93eb9a94-c667-4329-b35d-0232eabe4dcd",
   "metadata": {},
   "outputs": [],
   "source": [
    "ar_model=AutoReg(train,lags=[1,2,3,4,5,6,7,8,9,10,11,12])\n",
    "ar_model_fit=ar_model.fit()"
   ]
  },
  {
   "cell_type": "code",
   "execution_count": 97,
   "id": "4c9279ea-9c21-4ccd-ac31-09ab2a349bed",
   "metadata": {},
   "outputs": [],
   "source": [
    "prediction=ar_model_fit.predict(start=100,end=142)"
   ]
  },
  {
   "cell_type": "code",
   "execution_count": 98,
   "id": "8efdc3c1-04e1-40e4-95a0-3644b6a7a2c7",
   "metadata": {},
   "outputs": [
    {
     "data": {
      "text/plain": [
       "[<matplotlib.lines.Line2D at 0x204807d8260>]"
      ]
     },
     "execution_count": 98,
     "metadata": {},
     "output_type": "execute_result"
    },
    {
     "data": {
      "image/png": "[encoded data removed]",
      "text/plain": [
       "<Figure size 640x480 with 1 Axes>"
      ]
     },
     "metadata": {},
     "output_type": "display_data"
    }
   ],
   "source": [
    "import matplotlib.pyplot as plt\n",
    "plt.plot(test)\n",
    "plt.plot(prediction,color='green')"
   ]
  },
  {
   "cell_type": "markdown",
   "id": "70f91e99-20d4-4f9a-bc9c-0bb8776a81c4",
   "metadata": {},
   "source": [
    "## ARIMA Model"
   ]
  },
  {
   "cell_type": "code",
   "execution_count": 99,
   "id": "bca282a4-85b4-4b57-91fe-7b1b1fb95ca5",
   "metadata": {},
   "outputs": [],
   "source": [
    "## importing the library\n",
    "from statsmodels.tsa.arima.model import ARIMA\n",
    "\n",
    "#arima --- AR , I , MA\n",
    "#arima---(p,d,q)---these p d q are to be given to the arima model by user"
   ]
  },
  {
   "cell_type": "code",
   "execution_count": 100,
   "id": "810e917e-a5c4-4995-8c09-e898f208e08c",
   "metadata": {},
   "outputs": [],
   "source": [
    "model_arima=ARIMA(train,order=(1,1,0))\n",
    "model_arima_fit=model_arima.fit()"
   ]
  },
  {
   "cell_type": "raw",
   "id": "f4cc4142-60d7-4589-a8e8-c9f85d3fe8eb",
   "metadata": {},
   "source": [
    "Akaike Information Criteria (AIC):\n",
    "\n",
    "AIC is an estimator of prediction error which measures a statistical model in order to quantify the goodness of fit of the model. While comparing two models, the smaller the AIC value, the better the time series model.\n",
    "\n",
    "image.png K: The number of model parameters. ln(L): The log-likelihood of the model. This tells us how likely the model is, given the data.\n",
    "\n",
    "AIC uses a model’s maximum likelihood estimation (log-likelihood) as a measure of fit. Log-likelihood is a measure of how likely one is to see their observed data, given a model. The model with the maximum likelihood is the one that “fits” the data the best. The natural log of the likelihood is used as a computational convenience.\n",
    "\n",
    "AIC is low for models with high log-likelihoods. This means the model fits the data better, which is what we want.\n",
    "\n",
    "Once you’ve fit several regression models, you can compare the AIC value of each model. The model with the lowest AIC offers the best fit.\n",
    "\n",
    "There is no value for AIC that can be considered “good” or “bad” because we simply use AIC as a way to compare regression models. The model with the lowest AIC offers the best fit. The absolute value of the AIC value is not important."
   ]
  },
  {
   "cell_type": "code",
   "execution_count": 101,
   "id": "fffb4a6b-97cb-416b-b88e-d9208a853990",
   "metadata": {},
   "outputs": [
    {
     "name": "stdout",
     "output_type": "stream",
     "text": [
      "1021.0396389673766\n"
     ]
    }
   ],
   "source": [
    "## evaluate the model\n",
    "print(model_arima_fit.aic)"
   ]
  },
  {
   "cell_type": "code",
   "execution_count": 102,
   "id": "c5e155f9-2c13-4d4d-9018-48c0aed872df",
   "metadata": {},
   "outputs": [],
   "source": [
    "## predicting the output of sample points\n",
    "predictions=model_arima_fit.forecast(steps=9)"
   ]
  },
  {
   "cell_type": "code",
   "execution_count": 103,
   "id": "4aa6a2ea-df9d-44c2-9df4-f6e439a26685",
   "metadata": {},
   "outputs": [
    {
     "data": {
      "text/plain": [
       "1957-07-01    37.765356\n",
       "1957-08-01    48.751565\n",
       "1957-09-01    43.323244\n",
       "1957-10-01    46.005395\n",
       "1957-11-01    44.680135\n",
       "1957-12-01    45.334950\n",
       "1958-01-01    45.011404\n",
       "1958-02-01    45.171269\n",
       "1958-03-01    45.092279\n",
       "Freq: MS, Name: predicted_mean, dtype: float64"
      ]
     },
     "execution_count": 103,
     "metadata": {},
     "output_type": "execute_result"
    }
   ],
   "source": [
    "predictions"
   ]
  },
  {
   "cell_type": "code",
   "execution_count": 104,
   "id": "e0c266c4-a95d-4acd-aade-8f637e1c315d",
   "metadata": {},
   "outputs": [
    {
     "data": {
      "text/plain": [
       "[<matplotlib.lines.Line2D at 0x204ff80bd10>]"
      ]
     },
     "execution_count": 104,
     "metadata": {},
     "output_type": "execute_result"
    },
    {
     "data": {
      "image/png": "[encoded data removed]",
      "text/plain": [
       "<Figure size 640x480 with 1 Axes>"
      ]
     },
     "metadata": {},
     "output_type": "display_data"
    }
   ],
   "source": [
    "plt.plot(test[:9])\n",
    "plt.plot(predictions,color='green')"
   ]
  },
  {
   "cell_type": "code",
   "execution_count": 105,
   "id": "b543c6ea-ad71-41ad-b76b-2e143d98b236",
   "metadata": {},
   "outputs": [
    {
     "data": {
      "text/plain": [
       "[(0, 0, 0),\n",
       " (0, 0, 1),\n",
       " (0, 0, 2),\n",
       " (0, 0, 3),\n",
       " (0, 0, 4),\n",
       " (0, 1, 0),\n",
       " (0, 1, 1),\n",
       " (0, 1, 2),\n",
       " (0, 1, 3),\n",
       " (0, 1, 4),\n",
       " (0, 2, 0),\n",
       " (0, 2, 1),\n",
       " (0, 2, 2),\n",
       " (0, 2, 3),\n",
       " (0, 2, 4),\n",
       " (0, 3, 0),\n",
       " (0, 3, 1),\n",
       " (0, 3, 2),\n",
       " (0, 3, 3),\n",
       " (0, 3, 4),\n",
       " (0, 4, 0),\n",
       " (0, 4, 1),\n",
       " (0, 4, 2),\n",
       " (0, 4, 3),\n",
       " (0, 4, 4),\n",
       " (1, 0, 0),\n",
       " (1, 0, 1),\n",
       " (1, 0, 2),\n",
       " (1, 0, 3),\n",
       " (1, 0, 4),\n",
       " (1, 1, 0),\n",
       " (1, 1, 1),\n",
       " (1, 1, 2),\n",
       " (1, 1, 3),\n",
       " (1, 1, 4),\n",
       " (1, 2, 0),\n",
       " (1, 2, 1),\n",
       " (1, 2, 2),\n",
       " (1, 2, 3),\n",
       " (1, 2, 4),\n",
       " (1, 3, 0),\n",
       " (1, 3, 1),\n",
       " (1, 3, 2),\n",
       " (1, 3, 3),\n",
       " (1, 3, 4),\n",
       " (1, 4, 0),\n",
       " (1, 4, 1),\n",
       " (1, 4, 2),\n",
       " (1, 4, 3),\n",
       " (1, 4, 4),\n",
       " (2, 0, 0),\n",
       " (2, 0, 1),\n",
       " (2, 0, 2),\n",
       " (2, 0, 3),\n",
       " (2, 0, 4),\n",
       " (2, 1, 0),\n",
       " (2, 1, 1),\n",
       " (2, 1, 2),\n",
       " (2, 1, 3),\n",
       " (2, 1, 4),\n",
       " (2, 2, 0),\n",
       " (2, 2, 1),\n",
       " (2, 2, 2),\n",
       " (2, 2, 3),\n",
       " (2, 2, 4),\n",
       " (2, 3, 0),\n",
       " (2, 3, 1),\n",
       " (2, 3, 2),\n",
       " (2, 3, 3),\n",
       " (2, 3, 4),\n",
       " (2, 4, 0),\n",
       " (2, 4, 1),\n",
       " (2, 4, 2),\n",
       " (2, 4, 3),\n",
       " (2, 4, 4),\n",
       " (3, 0, 0),\n",
       " (3, 0, 1),\n",
       " (3, 0, 2),\n",
       " (3, 0, 3),\n",
       " (3, 0, 4),\n",
       " (3, 1, 0),\n",
       " (3, 1, 1),\n",
       " (3, 1, 2),\n",
       " (3, 1, 3),\n",
       " (3, 1, 4),\n",
       " (3, 2, 0),\n",
       " (3, 2, 1),\n",
       " (3, 2, 2),\n",
       " (3, 2, 3),\n",
       " (3, 2, 4),\n",
       " (3, 3, 0),\n",
       " (3, 3, 1),\n",
       " (3, 3, 2),\n",
       " (3, 3, 3),\n",
       " (3, 3, 4),\n",
       " (3, 4, 0),\n",
       " (3, 4, 1),\n",
       " (3, 4, 2),\n",
       " (3, 4, 3),\n",
       " (3, 4, 4),\n",
       " (4, 0, 0),\n",
       " (4, 0, 1),\n",
       " (4, 0, 2),\n",
       " (4, 0, 3),\n",
       " (4, 0, 4),\n",
       " (4, 1, 0),\n",
       " (4, 1, 1),\n",
       " (4, 1, 2),\n",
       " (4, 1, 3),\n",
       " (4, 1, 4),\n",
       " (4, 2, 0),\n",
       " (4, 2, 1),\n",
       " (4, 2, 2),\n",
       " (4, 2, 3),\n",
       " (4, 2, 4),\n",
       " (4, 3, 0),\n",
       " (4, 3, 1),\n",
       " (4, 3, 2),\n",
       " (4, 3, 3),\n",
       " (4, 3, 4),\n",
       " (4, 4, 0),\n",
       " (4, 4, 1),\n",
       " (4, 4, 2),\n",
       " (4, 4, 3),\n",
       " (4, 4, 4)]"
      ]
     },
     "execution_count": 105,
     "metadata": {},
     "output_type": "execute_result"
    }
   ],
   "source": [
    "  ## Geeting the optimal values of p,q an d\n",
    "import itertools\n",
    "\n",
    "p =d= q=range(0,5)#values of p,d,q range from 0 to 4\n",
    "# [0,1,2,3,4]\n",
    "# [0,1,2,3,4]\n",
    "# [0,1,2,3,4]\n",
    "\n",
    "pdq = list(itertools.product(p,d,q))\n",
    "# is used to find the cartesian product from the given iterator, output is lexicographic ordered.\n",
    "pdq #number of combinaton of pdq"
   ]
  },
  {
   "cell_type": "code",
   "execution_count": 106,
   "id": "96cd75aa-f190-4d8b-84b8-e2fced5fdb0f",
   "metadata": {},
   "outputs": [
    {
     "name": "stdout",
     "output_type": "stream",
     "text": [
      "(0, 0, 0) 967.9135518309452\n",
      "(0, 0, 1) 931.4372808378679\n",
      "(0, 0, 2) 925.729666013612\n",
      "(0, 0, 3) 920.9009364323597\n",
      "(0, 0, 4) 912.657138221364\n",
      "(0, 1, 0) 1046.731900142016\n",
      "(0, 1, 1) 963.8739381069045\n",
      "(0, 1, 2) 933.2127666483951\n",
      "(0, 1, 3) 926.5735237425068\n",
      "(0, 1, 4) 924.3136224405048\n",
      "(0, 2, 0) 1143.9983209809495\n",
      "(0, 2, 1) 1043.7570585081558\n",
      "(0, 2, 2) 966.1633534921147\n",
      "(0, 2, 3) 941.6120247430621\n",
      "(0, 2, 4) 933.7569641535889\n",
      "(0, 3, 0) 1247.2070979849168\n",
      "(0, 3, 1) 1139.8659459817973\n",
      "(0, 3, 2) 1044.647153623526\n",
      "(0, 3, 3) 972.366114818974\n",
      "(0, 3, 4) 955.4890117064359\n",
      "(0, 4, 0) 1351.0676095584174\n",
      "(0, 4, 1) 1241.6050826096448\n",
      "(0, 4, 2) 1139.2023567561603\n",
      "(0, 4, 3) 1048.665413659928\n",
      "(0, 4, 4) 1001.2308057603212\n",
      "(1, 0, 0) 963.0127961450215\n",
      "(1, 0, 1) 928.7077561911431\n",
      "(1, 0, 2) 919.8685370997459\n",
      "(1, 0, 3) 921.8388139019764\n",
      "(1, 0, 4) 923.3886062600994\n",
      "(1, 1, 0) 1021.0396389673766\n",
      "(1, 1, 1) 959.4979661017416\n",
      "(1, 1, 2) 962.9514176527094\n",
      "(1, 1, 3) 923.2263850515359\n",
      "(1, 1, 4) 923.101380555424\n",
      "(1, 2, 0) 1098.8738469115272\n",
      "(1, 2, 1) 1019.1218015532869\n",
      "(1, 2, 2) 962.4934745777398\n",
      "(1, 2, 3) 965.1462497550791\n",
      "(1, 2, 4) 931.2349126729777\n",
      "(1, 3, 0) 1186.5053670162722\n",
      "(1, 3, 1) 1096.139515516436\n",
      "(1, 3, 2) 1021.3107766677949\n",
      "(1, 3, 3) 969.6616789809357\n",
      "(1, 3, 4) 971.200127158093\n",
      "(1, 4, 0) 1279.6340971678947\n",
      "(1, 4, 1) 1182.4415145953253\n",
      "(1, 4, 2) 1096.9076576878733\n",
      "(1, 4, 3) 1141.7606635016682\n",
      "(1, 4, 4) 1050.0994419886079\n",
      "(2, 0, 0) 951.2134496277075\n",
      "(2, 0, 1) 926.7745524281514\n",
      "(2, 0, 2) 921.8449144587385\n",
      "(2, 0, 3) 923.4339327751309\n",
      "(2, 0, 4) 907.3464151778154\n",
      "(2, 1, 0) 987.8554910217125\n",
      "(2, 1, 1) 948.4595247204531\n",
      "(2, 1, 2) 948.2072908667362\n",
      "(2, 1, 3) 924.3432846895338\n",
      "(2, 1, 4) 920.4699556206951\n",
      "(2, 2, 0) 1042.4341331127366\n",
      "(2, 2, 1) 987.1969170575478\n",
      "(2, 2, 2) 952.5018984502324\n",
      "(2, 2, 3) 955.5752392605474\n",
      "(2, 2, 4) 961.310313397286\n",
      "(2, 3, 0) 1112.0638834736867\n",
      "(2, 3, 1) 1041.3775809321126\n",
      "(2, 3, 2) 991.0087128671321\n",
      "(2, 3, 3) 960.9733980076469\n",
      "(2, 3, 4) 963.0559210028496\n",
      "(2, 4, 0) 1192.610973119985\n",
      "(2, 4, 1) 1109.8713349992936\n",
      "(2, 4, 2) 1044.126508151253\n",
      "(2, 4, 3) 998.3866733839634\n",
      "(2, 4, 4) 1017.8945129837889\n",
      "(3, 0, 0) 953.1213128116002\n",
      "(3, 0, 1) 928.7783158595824\n",
      "(3, 0, 2) 923.5861503662982\n",
      "(3, 0, 3) 925.4068400389611\n",
      "(3, 0, 4) 908.9419691953298\n",
      "(3, 1, 0) 988.1270457402876\n",
      "(3, 1, 1) 950.4173558492507\n",
      "(3, 1, 2) 947.429274810894\n",
      "(3, 1, 3) 925.6993669221634\n",
      "(3, 1, 4) 917.3601317154049\n",
      "(3, 2, 0) 1035.9653947025924\n",
      "(3, 2, 1) 987.7213009076846\n",
      "(3, 2, 2) 988.3429756432414\n",
      "(3, 2, 3) 951.6950304355894\n",
      "(3, 2, 4) 956.1129792406161\n",
      "(3, 3, 0) 1092.0403291467953\n",
      "(3, 3, 1) 1035.48954737453\n",
      "(3, 3, 2) 991.8394094439166\n",
      "(3, 3, 3) 992.1796426196345\n",
      "(3, 3, 4) 960.0104744708163\n",
      "(3, 4, 0) 1157.4666167735693\n",
      "(3, 4, 1) 1090.8329412886874\n",
      "(3, 4, 2) 1038.935688713898\n",
      "(3, 4, 3) 1046.4816111032155\n",
      "(3, 4, 4) 999.3983290490082\n",
      "(4, 0, 0) 938.2795905978585\n",
      "(4, 0, 1) 918.2879118609677\n",
      "(4, 0, 2) 919.7069494846564\n",
      "(4, 0, 3) 904.9117989195958\n",
      "(4, 0, 4) 906.8299711517694\n",
      "(4, 1, 0) 975.7694853871895\n",
      "(4, 1, 1) 936.4163375314317\n",
      "(4, 1, 2) 920.7586676272124\n",
      "(4, 1, 3) 923.1687916878446\n",
      "(4, 1, 4) 920.2434257386681\n",
      "(4, 2, 0) 1026.568020670819\n",
      "(4, 2, 1) 976.1403584517323\n",
      "(4, 2, 2) 941.5076507590662\n",
      "(4, 2, 3) 979.4239843856225\n",
      "(4, 2, 4) 960.2242781870311\n",
      "(4, 3, 0) 1078.605739953935\n",
      "(4, 3, 1) 1026.7742645205676\n",
      "(4, 3, 2) 981.3080756574602\n",
      "(4, 3, 3) 1028.3799605307368\n",
      "(4, 3, 4) 986.7186045696086\n",
      "(4, 4, 0) 1132.880784668007\n",
      "(4, 4, 1) 1078.2001450524021\n",
      "(4, 4, 2) 1030.9289641805406\n",
      "(4, 4, 3) 1037.2399544797563\n",
      "(4, 4, 4) 999.1193174653363\n"
     ]
    }
   ],
   "source": [
    "##The Python try… except statement catches an exception. It is used to test code for an error which is written in the “try” statement.\n",
    "#If an error is encountered, the contents of the “except” block are run.\n",
    "list1=[]#i will be storing the pdq\n",
    "list2=[]  # i will be stpring aic value\n",
    "#it will be easy for me to compaare for which combo of pdf what aic is there\n",
    "\n",
    "# later on i will go to list where i ahve aic score , get the mini aic\n",
    "\n",
    "# which eveer combo is givng me the lower aic score that will eb taken as precise pdq value\n",
    "\n",
    "for params in pdq: #iterating params over pdq\n",
    "    model_arima=ARIMA(train,order=params) #training model on various pdq values\n",
    "    model_arima_fit=model_arima.fit()  #training\n",
    "    print(params,model_arima_fit.aic)  #printing parameter and aic values\n",
    "    list1.append(params)\n",
    "    list2.append(model_arima_fit.aic)"
   ]
  },
  {
   "cell_type": "code",
   "execution_count": 107,
   "id": "fc6380e4-5aa9-48d4-b6d6-1af85a73d4ca",
   "metadata": {},
   "outputs": [
    {
     "data": {
      "text/plain": [
       "904.9117989195958"
      ]
     },
     "execution_count": 107,
     "metadata": {},
     "output_type": "execute_result"
    }
   ],
   "source": [
    "min(list2)"
   ]
  },
  {
   "cell_type": "code",
   "execution_count": 108,
   "id": "15d94228-d0cd-47dc-9fda-f65f86d92499",
   "metadata": {},
   "outputs": [
    {
     "data": {
      "text/plain": [
       "1957-07-01    -4.901623\n",
       "1957-08-01    16.171309\n",
       "1957-09-01    33.830494\n",
       "1957-10-01    23.270767\n",
       "1957-11-01    23.700688\n",
       "1957-12-01    35.136993\n",
       "1958-01-01    34.699952\n",
       "1958-02-01    37.859997\n",
       "1958-03-01    43.513534\n",
       "Freq: MS, Name: predicted_mean, dtype: float64"
      ]
     },
     "execution_count": 108,
     "metadata": {},
     "output_type": "execute_result"
    }
   ],
   "source": [
    "forecast=model_arima_fit.forecast(steps=9)\n",
    "forecast"
   ]
  },
  {
   "cell_type": "code",
   "execution_count": 109,
   "id": "913f7c9d-de57-4f0f-b62a-7a92ba4050e7",
   "metadata": {},
   "outputs": [
    {
     "data": {
      "text/plain": [
       "[<matplotlib.lines.Line2D at 0x20481a170e0>]"
      ]
     },
     "execution_count": 109,
     "metadata": {},
     "output_type": "execute_result"
    },
    {
     "data": {
      "image/png": "[encoded data removed]",
      "text/plain": [
       "<Figure size 640x480 with 1 Axes>"
      ]
     },
     "metadata": {},
     "output_type": "display_data"
    }
   ],
   "source": [
    "plt.plot(test[:9])\n",
    "plt.plot(forecast,color='green')"
   ]
  },
  {
   "cell_type": "code",
   "execution_count": 110,
   "id": "f727413e-05ea-46b7-a678-27ad8b7db1af",
   "metadata": {},
   "outputs": [
    {
     "data": {
      "text/plain": [
       "array([ -24.,  -41.,  -65.,    6.,   15.,   73.,  -27.,  -26.,   66.,\n",
       "        -58.,   29.,   57.,  -16.,  -42., -115.,   56.,   -4.,   76.,\n",
       "         -4.,  -41.,   82.,  -74.,   34.,   28.,   24.])"
      ]
     },
     "execution_count": 110,
     "metadata": {},
     "output_type": "execute_result"
    }
   ],
   "source": [
    "forecast25=model_arima_fit.forecast(steps=25)\n",
    "test1=test[0:25].values.flatten()\n",
    "test1"
   ]
  },
  {
   "cell_type": "code",
   "execution_count": 111,
   "id": "7126389b-3c14-4de9-bd79-0c091014c169",
   "metadata": {},
   "outputs": [
    {
     "data": {
      "text/plain": [
       "[<matplotlib.lines.Line2D at 0x204ff6ee3c0>]"
      ]
     },
     "execution_count": 111,
     "metadata": {},
     "output_type": "execute_result"
    },
    {
     "data": {
      "image/png": "[encoded data removed]",
      "text/plain": [
       "<Figure size 640x480 with 1 Axes>"
      ]
     },
     "metadata": {},
     "output_type": "display_data"
    }
   ],
   "source": [
    "plt.plot(test[:25])\n",
    "plt.plot(forecast25,color='green')"
   ]
  },
  {
   "cell_type": "code",
   "execution_count": 112,
   "id": "36762416-bf32-4183-b073-6f77636ec900",
   "metadata": {},
   "outputs": [
    {
     "data": {
      "text/plain": [
       "{'mse': 9279.05919697542, 'mae': 77.83987624980983, 'rmse': 96.32787341665662}"
      ]
     },
     "execution_count": 112,
     "metadata": {},
     "output_type": "execute_result"
    }
   ],
   "source": [
    "# Accuracy metrics\n",
    "import numpy as np\n",
    "def forecast_accuracy(forecast, actual):\n",
    "    mse = np.mean((forecast - actual)**2)        # MSE\n",
    "    mae = np.mean(np.abs(forecast - actual))    # MAE\n",
    "    rmse = np.mean((forecast - actual)**2)**.5  # RMSE\n",
    "\n",
    "\n",
    "    return({'mse':mse, 'mae': mae, 'rmse':rmse})\n",
    "\n",
    "forecast_accuracy(forecast25, test1)"
   ]
  },
  {
   "cell_type": "code",
   "execution_count": 113,
   "id": "148514f6-e74f-4020-a933-a0d44f87680e",
   "metadata": {},
   "outputs": [
    {
     "name": "stdout",
     "output_type": "stream",
     "text": [
      "96.32787341665662\n"
     ]
    },
    {
     "data": {
      "text/plain": [
       "9279.05919697542"
      ]
     },
     "execution_count": 113,
     "metadata": {},
     "output_type": "execute_result"
    }
   ],
   "source": [
    "from sklearn.metrics import mean_squared_error\n",
    "from statsmodels.tools.eval_measures import rmse\n",
    "\n",
    "# Calculate root mean squared error\n",
    "print(rmse(test1, forecast25))\n",
    "\n",
    "# Calculate mean squared error\n",
    "mean_squared_error(test1, forecast25)"
   ]
  },
  {
   "cell_type": "code",
   "execution_count": null,
   "id": "cb1dcc61-4143-45b1-b252-ad096208e0b1",
   "metadata": {},
   "outputs": [],
   "source": []
  }
 ],
 "metadata": {
  "kernelspec": {
   "display_name": "Python [conda env:base] *",
   "language": "python",
   "name": "conda-base-py"
  },
  "language_info": {
   "codemirror_mode": {
    "name": "ipython",
    "version": 3
   },
   "file_extension": ".py",
   "mimetype": "text/x-python",
   "name": "python",
   "nbconvert_exporter": "python",
   "pygments_lexer": "ipython3",
   "version": "3.12.7"
  }
 },
 "nbformat": 4,
 "nbformat_minor": 5
}
